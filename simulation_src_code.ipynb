{
 "cells": [
  {
   "cell_type": "code",
   "execution_count": null,
   "metadata": {},
   "outputs": [],
   "source": [
    "import pandas as pd\n",
    "import requests\n",
    "URL= '<api url>'\n",
    "data = pd.read_csv('<file path>', sep = ',',encoding= 'unicode_escape')\n",
    "for i in data.index:\n",
    "    try:\n",
    "        # convert the row to json\n",
    "        export = data.loc[i].to_json()\n",
    "\n",
    "       
    "        response = requests.post(URL, data = export)\n",
    "\n",
    "        # print the returncode\n",
    "        print(export)\n",
    "        print(response)\n",
    "    except:\n",
    "        print(data.loc[i])"
   ]
  }
 ],
 "metadata": {
  "language_info": {
   "name": "python"
  },
  "orig_nbformat": 4
 },
 "nbformat": 4,
 "nbformat_minor": 2
}
